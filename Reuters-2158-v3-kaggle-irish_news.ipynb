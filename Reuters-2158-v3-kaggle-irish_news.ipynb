{
 "cells": [
  {
   "cell_type": "markdown",
   "metadata": {},
   "source": [
    "### Sentiment analysis of Irish news\n",
    "\n",
    "Irish News already separated to topics by the authors."
   ]
  },
  {
   "cell_type": "code",
   "execution_count": 1,
   "metadata": {},
   "outputs": [],
   "source": [
    "import os\n",
    "from collections import defaultdict\n",
    "import tqdm\n",
    "import pickle\n",
    "import numpy as np\n",
    "import pandas as pd\n",
    "import nltk\n",
    "# from nltk.corpus import reuters\n",
    "import matplotlib.pyplot as plt\n",
    "%matplotlib inline\n",
    "plt.style.use('ggplot')\n",
    "\n",
    "# nltk.download('reuters')"
   ]
  },
  {
   "cell_type": "code",
   "execution_count": 14,
   "metadata": {},
   "outputs": [],
   "source": [
    "DATA_FILE = '../dataset/kaggle/irishtimes-2017-06.csv'\n",
    "MIN_DOCS = 30  # categories with number documents less than MIN_DOCS are excluded"
   ]
  },
  {
   "cell_type": "code",
   "execution_count": 4,
   "metadata": {},
   "outputs": [
    {
     "data": {
      "text/html": [
       "<div>\n",
       "<style scoped>\n",
       "    .dataframe tbody tr th:only-of-type {\n",
       "        vertical-align: middle;\n",
       "    }\n",
       "\n",
       "    .dataframe tbody tr th {\n",
       "        vertical-align: top;\n",
       "    }\n",
       "\n",
       "    .dataframe thead th {\n",
       "        text-align: right;\n",
       "    }\n",
       "</style>\n",
       "<table border=\"1\" class=\"dataframe\">\n",
       "  <thead>\n",
       "    <tr style=\"text-align: right;\">\n",
       "      <th></th>\n",
       "      <th>publish_date</th>\n",
       "      <th>headline_category</th>\n",
       "      <th>headline_text</th>\n",
       "    </tr>\n",
       "  </thead>\n",
       "  <tbody>\n",
       "    <tr>\n",
       "      <th>0</th>\n",
       "      <td>2017-06-01</td>\n",
       "      <td>business</td>\n",
       "      <td>More than half of multinationals change tax pl...</td>\n",
       "    </tr>\n",
       "    <tr>\n",
       "      <th>1</th>\n",
       "      <td>2017-06-01</td>\n",
       "      <td>business.agribusiness-and-food</td>\n",
       "      <td>Dairy fares best but all farm incomes are far ...</td>\n",
       "    </tr>\n",
       "    <tr>\n",
       "      <th>2</th>\n",
       "      <td>2017-06-01</td>\n",
       "      <td>business.commercial-property</td>\n",
       "      <td>IBRC wants a Belfast court to allow it to take...</td>\n",
       "    </tr>\n",
       "    <tr>\n",
       "      <th>3</th>\n",
       "      <td>2017-06-01</td>\n",
       "      <td>business.construction</td>\n",
       "      <td>Quarter of adults see homes as inadequate; say...</td>\n",
       "    </tr>\n",
       "    <tr>\n",
       "      <th>4</th>\n",
       "      <td>2017-06-01</td>\n",
       "      <td>business.construction</td>\n",
       "      <td>Builders react with alarm to site levy proposal</td>\n",
       "    </tr>\n",
       "  </tbody>\n",
       "</table>\n",
       "</div>"
      ],
      "text/plain": [
       "  publish_date               headline_category  \\\n",
       "0   2017-06-01                        business   \n",
       "1   2017-06-01  business.agribusiness-and-food   \n",
       "2   2017-06-01    business.commercial-property   \n",
       "3   2017-06-01           business.construction   \n",
       "4   2017-06-01           business.construction   \n",
       "\n",
       "                                       headline_text  \n",
       "0  More than half of multinationals change tax pl...  \n",
       "1  Dairy fares best but all farm incomes are far ...  \n",
       "2  IBRC wants a Belfast court to allow it to take...  \n",
       "3  Quarter of adults see homes as inadequate; say...  \n",
       "4    Builders react with alarm to site levy proposal  "
      ]
     },
     "execution_count": 4,
     "metadata": {},
     "output_type": "execute_result"
    }
   ],
   "source": [
    "df = pd.read_csv(DATA_FILE, parse_dates=True)\n",
    "df.head()"
   ]
  },
  {
   "cell_type": "markdown",
   "metadata": {},
   "source": [
    "Documents are sets of '**headline_text**' grouped by '**headline_category**' and **time**.<br>\n",
    "The first goal is to see how documents are grouped by the model."
   ]
  },
  {
   "cell_type": "code",
   "execution_count": 5,
   "metadata": {},
   "outputs": [
    {
     "data": {
      "text/plain": [
       "['business',\n",
       " 'business.agribusiness-and-food',\n",
       " 'business.commercial-property',\n",
       " 'business.companies',\n",
       " 'business.construction',\n",
       " 'business.economy',\n",
       " 'business.energy-and-resources',\n",
       " 'business.financial-services',\n",
       " 'business.health-pharma',\n",
       " 'business.innovation',\n",
       " 'business.manufacturing',\n",
       " 'business.markets',\n",
       " 'business.media-and-marketing',\n",
       " 'business.personal-finance',\n",
       " 'business.retail-and-services',\n",
       " 'business.technology',\n",
       " 'business.transport-and-tourism',\n",
       " 'business.work',\n",
       " 'news.law',\n",
       " 'news.law.courts',\n",
       " 'news.law.courts.circuit-court',\n",
       " 'news.law.courts.coroner-s-court',\n",
       " 'news.law.courts.criminal-court',\n",
       " 'news.law.courts.district-court',\n",
       " 'news.law.courts.high-court',\n",
       " 'news.law.courts.supreme-court',\n",
       " 'news.politics',\n",
       " 'news.politics.oireachtas',\n",
       " 'news.world',\n",
       " 'news.world.africa',\n",
       " 'news.world.asia-pacific',\n",
       " 'news.world.europe',\n",
       " 'news.world.middle-east',\n",
       " 'news.world.uk',\n",
       " 'news.world.us']"
      ]
     },
     "execution_count": 5,
     "metadata": {},
     "output_type": "execute_result"
    }
   ],
   "source": [
    "categories = set(df.headline_category)\n",
    "sorted(categories)"
   ]
  },
  {
   "cell_type": "markdown",
   "metadata": {},
   "source": [
    "Remove categories that include only few documents"
   ]
  },
  {
   "cell_type": "code",
   "execution_count": 12,
   "metadata": {},
   "outputs": [
    {
     "data": {
      "text/plain": [
       "[('news.politics', 1386),\n",
       " ('news.law', 1061),\n",
       " ('business.economy', 939),\n",
       " ('news.world.europe', 927),\n",
       " ('business.technology', 874),\n",
       " ('news.world.us', 686),\n",
       " ('business.financial-services', 649),\n",
       " ('business.transport-and-tourism', 592),\n",
       " ('news.world.uk', 483),\n",
       " ('news.world.asia-pacific', 427),\n",
       " ('business.commercial-property', 424),\n",
       " ('business.retail-and-services', 358),\n",
       " ('news.law.courts.high-court', 349),\n",
       " ('business.media-and-marketing', 329),\n",
       " ('business', 304),\n",
       " ('news.politics.oireachtas', 302),\n",
       " ('business.markets', 291),\n",
       " ('news.world.middle-east', 247),\n",
       " ('news.world', 222),\n",
       " ('business.personal-finance', 219),\n",
       " ('news.law.courts.circuit-court', 205),\n",
       " ('business.agribusiness-and-food', 203),\n",
       " ('business.energy-and-resources', 184),\n",
       " ('business.construction', 171),\n",
       " ('business.work', 155),\n",
       " ('news.world.africa', 148),\n",
       " ('business.manufacturing', 137),\n",
       " ('business.innovation', 136),\n",
       " ('news.law.courts.district-court', 128),\n",
       " ('business.health-pharma', 126),\n",
       " ('news.law.courts.criminal-court', 106),\n",
       " ('news.law.courts.coroner-s-court', 65),\n",
       " ('news.law.courts', 39),\n",
       " ('news.law.courts.supreme-court', 25),\n",
       " ('business.companies', 21)]"
      ]
     },
     "execution_count": 12,
     "metadata": {},
     "output_type": "execute_result"
    }
   ],
   "source": [
    "docs_in_cat = {cat: len(df[df.headline_category == cat]) for cat in categories}\n",
    "sorted(docs_in_cat.items(), key=lambda x: x[1], reverse=True)"
   ]
  },
  {
   "cell_type": "markdown",
   "metadata": {},
   "source": [
    "docs_in_cat shows that this set of news is highly unbalanced. Just remove categories where number of documents too small"
   ]
  },
  {
   "cell_type": "code",
   "execution_count": 16,
   "metadata": {},
   "outputs": [
    {
     "data": {
      "text/plain": [
       "(35, 33)"
      ]
     },
     "execution_count": 16,
     "metadata": {},
     "output_type": "execute_result"
    }
   ],
   "source": [
    "categories2 = {idx: val for idx, val in docs_in_cat.items() if val > MIN_DOCS}\n",
    "len(categories), len(categories2)"
   ]
  },
  {
   "cell_type": "markdown",
   "metadata": {},
   "source": [
    "### Sentiment analysis by categories and in common"
   ]
  },
  {
   "cell_type": "code",
   "execution_count": 17,
   "metadata": {},
   "outputs": [
    {
     "name": "stdout",
     "output_type": "stream",
     "text": [
      "[nltk_data] Downloading package vader_lexicon to\n",
      "[nltk_data]     /home/rtaubes/nltk_data...\n",
      "[nltk_data]   Package vader_lexicon is already up-to-date!\n"
     ]
    },
    {
     "name": "stderr",
     "output_type": "stream",
     "text": [
      "/home/rtaubes/.virtualenvs/ml3.6/lib/python3.6/site-packages/nltk/twitter/__init__.py:20: UserWarning: The twython library has not been installed. Some functionality from the twitter package will not be available.\n",
      "  warnings.warn(\"The twython library has not been installed. \"\n"
     ]
    },
    {
     "data": {
      "text/plain": [
       "True"
      ]
     },
     "execution_count": 17,
     "metadata": {},
     "output_type": "execute_result"
    }
   ],
   "source": [
    "from nltk.sentiment.vader import SentimentIntensityAnalyzer\n",
    "nltk.download('vader_lexicon')"
   ]
  },
  {
   "cell_type": "markdown",
   "metadata": {},
   "source": [
    "create a new data frame with categories as columns and rows as positive/negative estimation combined by date"
   ]
  },
  {
   "cell_type": "markdown",
   "metadata": {},
   "source": [
    "'other cat' is a sum of categories which have too small number of documents"
   ]
  },
  {
   "cell_type": "code",
   "execution_count": 28,
   "metadata": {},
   "outputs": [
    {
     "data": {
      "application/vnd.jupyter.widget-view+json": {
       "model_id": "8a958d347d7548b9bc5e2dfb8ea1abac",
       "version_major": 2,
       "version_minor": 0
      },
      "text/plain": [
       "HBox(children=(IntProgress(value=0, description='index', max=12918, style=ProgressStyle(description_width='ini…"
      ]
     },
     "metadata": {},
     "output_type": "display_data"
    },
    {
     "name": "stdout",
     "output_type": "stream",
     "text": [
      "\n"
     ]
    }
   ],
   "source": [
    "df_sn2 = df.copy()\n",
    "df_sn2['news_score'] = 0.0\n",
    "for cat in categories2:\n",
    "    df_sn2[cat] = 0.0\n",
    "\n",
    "# Note that 'pos' and 'neg' are always not negative\n",
    "for idx in tqdm.tqdm_notebook(df_sn2.index, desc='index'):\n",
    "    df_row = df_sn2.iloc[idx]\n",
    "    sa = SentimentIntensityAnalyzer()\n",
    "    if df_row.headline_category in categories2:\n",
    "        cat = df_row.headline_category\n",
    "    else:\n",
    "        cat = 'other_cat'\n",
    "    psc = sa.polarity_scores(df_row.headline_text)\n",
    "    if psc['pos'] > psc['neg']:\n",
    "        df_sn2.loc[idx, 'news_score'] = 1\n",
    "    elif psc['pos'] < psc['neg']:\n",
    "        df_sn2.loc[idx, 'news_score'] = -1\n",
    "    df_sn2.loc[idx, cat] = psc['pos'] - psc['neg']\n",
    "#     df_sn2.loc[idx, 'news_score']"
   ]
  },
  {
   "cell_type": "code",
   "execution_count": 29,
   "metadata": {},
   "outputs": [],
   "source": [
    "# Actually 'headline_category' and 'headline_text' can be removed by 'groupby' because they are not numeric.\n",
    "df_sn3 = df_sn2.drop(['headline_category', 'headline_text'], axis=1)"
   ]
  },
  {
   "cell_type": "code",
   "execution_count": 30,
   "metadata": {},
   "outputs": [],
   "source": [
    "df_sn4 = df_sn3.groupby('publish_date').sum()"
   ]
  },
  {
   "cell_type": "code",
   "execution_count": 31,
   "metadata": {},
   "outputs": [
    {
     "data": {
      "text/html": [
       "<div>\n",
       "<style scoped>\n",
       "    .dataframe tbody tr th:only-of-type {\n",
       "        vertical-align: middle;\n",
       "    }\n",
       "\n",
       "    .dataframe tbody tr th {\n",
       "        vertical-align: top;\n",
       "    }\n",
       "\n",
       "    .dataframe thead th {\n",
       "        text-align: right;\n",
       "    }\n",
       "</style>\n",
       "<table border=\"1\" class=\"dataframe\">\n",
       "  <thead>\n",
       "    <tr style=\"text-align: right;\">\n",
       "      <th></th>\n",
       "      <th>news_score</th>\n",
       "      <th>business.energy-and-resources</th>\n",
       "      <th>business.innovation</th>\n",
       "      <th>news.law.courts.circuit-court</th>\n",
       "      <th>news.politics</th>\n",
       "      <th>business.agribusiness-and-food</th>\n",
       "      <th>news.politics.oireachtas</th>\n",
       "      <th>news.world.middle-east</th>\n",
       "      <th>business.construction</th>\n",
       "      <th>news.law.courts.district-court</th>\n",
       "      <th>...</th>\n",
       "      <th>business.manufacturing</th>\n",
       "      <th>news.law</th>\n",
       "      <th>news.law.courts.coroner-s-court</th>\n",
       "      <th>business.commercial-property</th>\n",
       "      <th>news.law.courts.criminal-court</th>\n",
       "      <th>news.world</th>\n",
       "      <th>news.world.europe</th>\n",
       "      <th>news.law.courts</th>\n",
       "      <th>news.world.us</th>\n",
       "      <th>other_cat</th>\n",
       "    </tr>\n",
       "    <tr>\n",
       "      <th>publish_date</th>\n",
       "      <th></th>\n",
       "      <th></th>\n",
       "      <th></th>\n",
       "      <th></th>\n",
       "      <th></th>\n",
       "      <th></th>\n",
       "      <th></th>\n",
       "      <th></th>\n",
       "      <th></th>\n",
       "      <th></th>\n",
       "      <th></th>\n",
       "      <th></th>\n",
       "      <th></th>\n",
       "      <th></th>\n",
       "      <th></th>\n",
       "      <th></th>\n",
       "      <th></th>\n",
       "      <th></th>\n",
       "      <th></th>\n",
       "      <th></th>\n",
       "      <th></th>\n",
       "    </tr>\n",
       "  </thead>\n",
       "  <tbody>\n",
       "    <tr>\n",
       "      <th>2017-06-01</th>\n",
       "      <td>-6.0</td>\n",
       "      <td>0.000</td>\n",
       "      <td>0.379</td>\n",
       "      <td>-0.167</td>\n",
       "      <td>0.471</td>\n",
       "      <td>0.206</td>\n",
       "      <td>-0.943</td>\n",
       "      <td>0.000</td>\n",
       "      <td>-0.262</td>\n",
       "      <td>-0.302</td>\n",
       "      <td>...</td>\n",
       "      <td>-0.145</td>\n",
       "      <td>-1.240</td>\n",
       "      <td>0.000</td>\n",
       "      <td>0.119</td>\n",
       "      <td>-0.852</td>\n",
       "      <td>0.000</td>\n",
       "      <td>0.180</td>\n",
       "      <td>0.0</td>\n",
       "      <td>-0.035</td>\n",
       "      <td>0.066</td>\n",
       "    </tr>\n",
       "    <tr>\n",
       "      <th>2017-06-02</th>\n",
       "      <td>-1.0</td>\n",
       "      <td>0.000</td>\n",
       "      <td>0.000</td>\n",
       "      <td>0.216</td>\n",
       "      <td>1.048</td>\n",
       "      <td>0.000</td>\n",
       "      <td>0.219</td>\n",
       "      <td>0.000</td>\n",
       "      <td>0.000</td>\n",
       "      <td>0.000</td>\n",
       "      <td>...</td>\n",
       "      <td>0.000</td>\n",
       "      <td>-0.584</td>\n",
       "      <td>-0.095</td>\n",
       "      <td>0.000</td>\n",
       "      <td>-0.615</td>\n",
       "      <td>0.252</td>\n",
       "      <td>-0.321</td>\n",
       "      <td>0.0</td>\n",
       "      <td>0.456</td>\n",
       "      <td>-0.449</td>\n",
       "    </tr>\n",
       "    <tr>\n",
       "      <th>2017-06-03</th>\n",
       "      <td>2.0</td>\n",
       "      <td>0.000</td>\n",
       "      <td>0.000</td>\n",
       "      <td>0.000</td>\n",
       "      <td>0.000</td>\n",
       "      <td>0.000</td>\n",
       "      <td>0.000</td>\n",
       "      <td>-0.661</td>\n",
       "      <td>0.000</td>\n",
       "      <td>0.000</td>\n",
       "      <td>...</td>\n",
       "      <td>0.000</td>\n",
       "      <td>0.000</td>\n",
       "      <td>0.000</td>\n",
       "      <td>0.000</td>\n",
       "      <td>0.000</td>\n",
       "      <td>0.000</td>\n",
       "      <td>-0.310</td>\n",
       "      <td>0.0</td>\n",
       "      <td>0.298</td>\n",
       "      <td>0.000</td>\n",
       "    </tr>\n",
       "    <tr>\n",
       "      <th>2017-06-04</th>\n",
       "      <td>-12.0</td>\n",
       "      <td>0.000</td>\n",
       "      <td>0.000</td>\n",
       "      <td>0.000</td>\n",
       "      <td>0.000</td>\n",
       "      <td>0.000</td>\n",
       "      <td>0.000</td>\n",
       "      <td>0.000</td>\n",
       "      <td>0.000</td>\n",
       "      <td>0.000</td>\n",
       "      <td>...</td>\n",
       "      <td>0.000</td>\n",
       "      <td>0.000</td>\n",
       "      <td>0.000</td>\n",
       "      <td>0.000</td>\n",
       "      <td>0.000</td>\n",
       "      <td>-0.520</td>\n",
       "      <td>0.000</td>\n",
       "      <td>0.0</td>\n",
       "      <td>0.000</td>\n",
       "      <td>0.000</td>\n",
       "    </tr>\n",
       "    <tr>\n",
       "      <th>2017-06-05</th>\n",
       "      <td>-5.0</td>\n",
       "      <td>0.342</td>\n",
       "      <td>0.000</td>\n",
       "      <td>0.000</td>\n",
       "      <td>0.000</td>\n",
       "      <td>0.000</td>\n",
       "      <td>0.000</td>\n",
       "      <td>-0.022</td>\n",
       "      <td>0.000</td>\n",
       "      <td>0.000</td>\n",
       "      <td>...</td>\n",
       "      <td>0.000</td>\n",
       "      <td>-0.223</td>\n",
       "      <td>0.000</td>\n",
       "      <td>-0.231</td>\n",
       "      <td>0.000</td>\n",
       "      <td>0.000</td>\n",
       "      <td>-0.247</td>\n",
       "      <td>0.0</td>\n",
       "      <td>0.000</td>\n",
       "      <td>0.000</td>\n",
       "    </tr>\n",
       "  </tbody>\n",
       "</table>\n",
       "<p>5 rows × 35 columns</p>\n",
       "</div>"
      ],
      "text/plain": [
       "              news_score  business.energy-and-resources  business.innovation  \\\n",
       "publish_date                                                                   \n",
       "2017-06-01          -6.0                          0.000                0.379   \n",
       "2017-06-02          -1.0                          0.000                0.000   \n",
       "2017-06-03           2.0                          0.000                0.000   \n",
       "2017-06-04         -12.0                          0.000                0.000   \n",
       "2017-06-05          -5.0                          0.342                0.000   \n",
       "\n",
       "              news.law.courts.circuit-court  news.politics  \\\n",
       "publish_date                                                 \n",
       "2017-06-01                           -0.167          0.471   \n",
       "2017-06-02                            0.216          1.048   \n",
       "2017-06-03                            0.000          0.000   \n",
       "2017-06-04                            0.000          0.000   \n",
       "2017-06-05                            0.000          0.000   \n",
       "\n",
       "              business.agribusiness-and-food  news.politics.oireachtas  \\\n",
       "publish_date                                                             \n",
       "2017-06-01                             0.206                    -0.943   \n",
       "2017-06-02                             0.000                     0.219   \n",
       "2017-06-03                             0.000                     0.000   \n",
       "2017-06-04                             0.000                     0.000   \n",
       "2017-06-05                             0.000                     0.000   \n",
       "\n",
       "              news.world.middle-east  business.construction  \\\n",
       "publish_date                                                  \n",
       "2017-06-01                     0.000                 -0.262   \n",
       "2017-06-02                     0.000                  0.000   \n",
       "2017-06-03                    -0.661                  0.000   \n",
       "2017-06-04                     0.000                  0.000   \n",
       "2017-06-05                    -0.022                  0.000   \n",
       "\n",
       "              news.law.courts.district-court    ...      \\\n",
       "publish_date                                    ...       \n",
       "2017-06-01                            -0.302    ...       \n",
       "2017-06-02                             0.000    ...       \n",
       "2017-06-03                             0.000    ...       \n",
       "2017-06-04                             0.000    ...       \n",
       "2017-06-05                             0.000    ...       \n",
       "\n",
       "              business.manufacturing  news.law  \\\n",
       "publish_date                                     \n",
       "2017-06-01                    -0.145    -1.240   \n",
       "2017-06-02                     0.000    -0.584   \n",
       "2017-06-03                     0.000     0.000   \n",
       "2017-06-04                     0.000     0.000   \n",
       "2017-06-05                     0.000    -0.223   \n",
       "\n",
       "              news.law.courts.coroner-s-court  business.commercial-property  \\\n",
       "publish_date                                                                  \n",
       "2017-06-01                              0.000                         0.119   \n",
       "2017-06-02                             -0.095                         0.000   \n",
       "2017-06-03                              0.000                         0.000   \n",
       "2017-06-04                              0.000                         0.000   \n",
       "2017-06-05                              0.000                        -0.231   \n",
       "\n",
       "              news.law.courts.criminal-court  news.world  news.world.europe  \\\n",
       "publish_date                                                                  \n",
       "2017-06-01                            -0.852       0.000              0.180   \n",
       "2017-06-02                            -0.615       0.252             -0.321   \n",
       "2017-06-03                             0.000       0.000             -0.310   \n",
       "2017-06-04                             0.000      -0.520              0.000   \n",
       "2017-06-05                             0.000       0.000             -0.247   \n",
       "\n",
       "              news.law.courts  news.world.us  other_cat  \n",
       "publish_date                                             \n",
       "2017-06-01                0.0         -0.035      0.066  \n",
       "2017-06-02                0.0          0.456     -0.449  \n",
       "2017-06-03                0.0          0.298      0.000  \n",
       "2017-06-04                0.0          0.000      0.000  \n",
       "2017-06-05                0.0          0.000      0.000  \n",
       "\n",
       "[5 rows x 35 columns]"
      ]
     },
     "execution_count": 31,
     "metadata": {},
     "output_type": "execute_result"
    }
   ],
   "source": [
    "df_sn4.head()"
   ]
  },
  {
   "cell_type": "code",
   "execution_count": 32,
   "metadata": {},
   "outputs": [],
   "source": [
    "df_sn4.to_csv('df_irish_news_score.csv')"
   ]
  }
 ],
 "metadata": {
  "kernelspec": {
   "display_name": "ml3.6",
   "language": "python",
   "name": "ml3.6"
  },
  "language_info": {
   "codemirror_mode": {
    "name": "ipython",
    "version": 3
   },
   "file_extension": ".py",
   "mimetype": "text/x-python",
   "name": "python",
   "nbconvert_exporter": "python",
   "pygments_lexer": "ipython3",
   "version": "3.6.6"
  },
  "varInspector": {
   "cols": {
    "lenName": 16,
    "lenType": 16,
    "lenVar": 40
   },
   "kernels_config": {
    "python": {
     "delete_cmd_postfix": "",
     "delete_cmd_prefix": "del ",
     "library": "var_list.py",
     "varRefreshCmd": "print(var_dic_list())"
    },
    "r": {
     "delete_cmd_postfix": ") ",
     "delete_cmd_prefix": "rm(",
     "library": "var_list.r",
     "varRefreshCmd": "cat(var_dic_list()) "
    }
   },
   "types_to_exclude": [
    "module",
    "function",
    "builtin_function_or_method",
    "instance",
    "_Feature"
   ],
   "window_display": false
  }
 },
 "nbformat": 4,
 "nbformat_minor": 2
}
